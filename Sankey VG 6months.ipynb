{
 "cells": [
  {
   "cell_type": "code",
   "execution_count": null,
   "metadata": {},
   "outputs": [],
   "source": [
    "import plotly.graph_objects as go\n",
    "import pandas as pd"
   ]
  },
  {
   "cell_type": "code",
   "execution_count": null,
   "metadata": {},
   "outputs": [],
   "source": [
    "fig = go.Figure(\n",
    "    data = [go.Sankey(\n",
    "        node = dict(\n",
    "            pad = 15, \n",
    "            thickness = 20, \n",
    "            line = dict(color = \"black\", width = 0.5),\n",
    "            color = \"blue\"\n",
    "        ),\n",
    "        link = dict(\n",
    "            source = [0,0,1,1,2,2],\n",
    "            target = [2,1,2,2,0,1],\n",
    "            value = [1,1,1,2,1,1]\n",
    "        )\n",
    "    )]\n",
    ")"
   ]
  },
  {
   "cell_type": "code",
   "execution_count": null,
   "metadata": {},
   "outputs": [],
   "source": [
    "fig.update_layout(title_text = \"Sankey Diagram\", font_size = 10)\n",
    "fig.show()"
   ]
  },
  {
   "cell_type": "code",
   "execution_count": null,
   "metadata": {},
   "outputs": [],
   "source": [
    "df = pd.read_csv(\"temp_for_Sankey_HRPosHER2Neg_6m.csv\")"
   ]
  },
  {
   "cell_type": "code",
   "execution_count": null,
   "metadata": {},
   "outputs": [],
   "source": [
    "df"
   ]
  },
  {
   "cell_type": "code",
   "execution_count": null,
   "metadata": {},
   "outputs": [],
   "source": [
    "groups = df.groupby(\n",
    "    ['M_-6', 'M_-5', 'M_-4', 'M_-3', 'M_-2', 'M_-1', 'M_0', 'M_1', 'M_2', 'M_3', 'M_4', 'M_5', 'M_6' ]\n",
    "     ).agg({'patient':'count'}).reset_index()\n",
    "\n",
    "groups"
   ]
  },
  {
   "cell_type": "code",
   "execution_count": null,
   "metadata": {},
   "outputs": [],
   "source": [
    "first_month =  groups.groupby(['M_-6', 'M_-5']).agg({'patient':'sum'}).rename({'patient':'counts'}).reset_index()\n",
    "second_month  =  groups.groupby(['M_-5', 'M_-4']).agg({'patient':'sum'}).rename({'patient':'counts'}).reset_index()\n",
    "third_month  =  groups.groupby(['M_-4', 'M_-3']).agg({'patient':'sum'}).rename({'patient':'counts'}).reset_index()\n",
    "fourth_month  =  groups.groupby(['M_-3', 'M_-2']).agg({'patient':'sum'}).rename({'patient':'counts'}).reset_index()\n",
    "fifth_month  =  groups.groupby(['M_-2', 'M_-1']).agg({'patient':'sum'}).rename({'patient':'counts'}).reset_index()\n",
    "sixth_month  =  groups.groupby(['M_-1', 'M_0']).agg({'patient':'sum'}).rename({'patient':'counts'}).reset_index()\n",
    "seventh_month  =  groups.groupby(['M_0', 'M_1']).agg({'patient':'sum'}).rename({'patient':'counts'}).reset_index()\n",
    "eighth_month  =  groups.groupby(['M_1', 'M_2']).agg({'patient':'sum'}).rename({'patient':'counts'}).reset_index()\n",
    "ninth_month  =  groups.groupby(['M_2', 'M_3']).agg({'patient':'sum'}).rename({'patient':'counts'}).reset_index()\n",
    "tenth_month  =  groups.groupby(['M_3', 'M_4']).agg({'patient':'sum'}).rename({'patient':'counts'}).reset_index()\n",
    "eleventh_month  =  groups.groupby(['M_4', 'M_5']).agg({'patient':'sum'}).rename({'patient':'counts'}).reset_index()\n",
    "twelfth_month  =  groups.groupby(['M_5', 'M_6']).agg({'patient':'sum'}).rename({'patient':'counts'}).reset_index()\n",
    "\n"
   ]
  },
  {
   "cell_type": "code",
   "execution_count": null,
   "metadata": {},
   "outputs": [],
   "source": [
    "list_=[first_month,second_month,third_month,fourth_month,fifth_month,sixth_month,seventh_month,eighth_month,ninth_month,tenth_month,eleventh_month,twelfth_month]\n",
    "list_"
   ]
  },
  {
   "cell_type": "code",
   "execution_count": null,
   "metadata": {},
   "outputs": [],
   "source": [
    "names = []\n",
    "count_dict = {} #will contain all info of value list\n",
    "source_list = [] #will contain all info of source\n",
    "target_list = [] #will contain all info of target"
   ]
  },
  {
   "cell_type": "code",
   "execution_count": null,
   "metadata": {},
   "outputs": [],
   "source": [
    "for i in range(0, len(list_)):\n",
    "    cols = list_[i].columns\n",
    "    for x,y,z in zip(list_[i][cols[0]], list_[i][cols[1]], list_[i][cols[2]]):\n",
    "\n",
    "        if(x+'_M'+str(i+1) not in names):\n",
    "            names.append(x+'_M'+str(i+1))\n",
    "        \n",
    "        count_dict[x+'_M'+str(i+1), y+'_M'+str(i+2)] = z\n",
    "        source_list.append(x+'_M'+str(i+1))\n",
    "        target_list.append(y+'_M'+str(i+2))"
   ]
  },
  {
   "cell_type": "code",
   "execution_count": null,
   "metadata": {},
   "outputs": [],
   "source": [
    "source_list\n",
    "target_list\n",
    "names\n",
    "count_dict"
   ]
  },
  {
   "cell_type": "code",
   "execution_count": null,
   "metadata": {},
   "outputs": [],
   "source": [
    "for v in target_list:\n",
    "    if v not in names:\n",
    "        names.append(v)"
   ]
  },
  {
   "cell_type": "code",
   "execution_count": null,
   "metadata": {},
   "outputs": [],
   "source": [
    "all_numerics = {}\n",
    "\n",
    "for i in range(0, len(names)):\n",
    "    all_numerics[names[i]] = i"
   ]
  },
  {
   "cell_type": "code",
   "execution_count": null,
   "metadata": {},
   "outputs": [],
   "source": [
    "fig = go.Figure(data = [go.Sankey(\n",
    "    node=dict(thickness=5, color='blue',),\n",
    "    link=dict(\n",
    "        source = [all_numerics[x] for x in source_list],\n",
    "        target = [all_numerics[x] for x in target_list],\n",
    "        value = [count_dict[x,y] for x,y in zip(source_list,target_list)],\n",
    "    )\n",
    ")])"
   ]
  },
  {
   "cell_type": "code",
   "execution_count": null,
   "metadata": {},
   "outputs": [],
   "source": [
    "fig.update_layout(font_size=15, width=1200, height=800, margin=dict(t=30,l=30,b=30,r=30))\n",
    "fig.show()"
   ]
  },
  {
   "cell_type": "code",
   "execution_count": null,
   "metadata": {},
   "outputs": [],
   "source": [
    "names"
   ]
  },
  {
   "cell_type": "code",
   "execution_count": null,
   "metadata": {},
   "outputs": [],
   "source": [
    "color_dict = {\n",
    "    'S1': 'rgba(255, 87, 34, 0.7)',   # Orange\n",
    "    'S2': 'rgba(0, 0, 0, 0.7)',   # Black\n",
    "    'S3': 'rgba(156, 39, 176, 0.7)',   # Purple\n",
    "    'S4': 'rgba(76, 175, 80, 0.7)',   # Green\n",
    "    'S5': 'rgba(255, 193, 7, 0.7)',   # Amber\n",
    "    'S6': 'rgba(33, 150, 243, 0.7)',   # Indigo\n",
    "    'S7': 'rgba(233, 30, 99, 0.7)',   # Pink\n",
    "    'S8': 'rgba(255, 152, 0, 0.7)'   # Deep Orange\n",
    "}\n",
    "\n",
    "\n",
    "color_dict_link = {\n",
    "    'S1': 'rgba(255, 87, 34, 0.3)',   # Orange\n",
    "    'S2': 'rgba(0, 0, 0, 0.7)',   # Black\n",
    "    'S3': 'rgba(156, 39, 176, 0.3)',   # Purple\n",
    "    'S4': 'rgba(76, 175, 80, 0.3)',   # Green\n",
    "    'S5': 'rgba(255, 193, 7, 0.3)',   # Amber\n",
    "    'S6': 'rgba(33, 150, 243, 0.3)',   # Indigo\n",
    "    'S7': 'rgba(233, 30, 99, 0.3)',   # Pink\n",
    "    'S8': 'rgba(255, 152, 0, 0.3)'   # Deep Orange\n",
    "}"
   ]
  },
  {
   "cell_type": "code",
   "execution_count": null,
   "metadata": {},
   "outputs": [],
   "source": [
    "color_dict = {\n",
    "    'S1': 'rgba(244, 238, 225, 0.7)',   # Light Beige\n",
    "    'S2': 'rgba(244, 238, 225, 0.7)',   # Light Beige\n",
    "    'S3': 'rgba(255, 105, 180, 1.0)',   # Strong Pink Redish\n",
    "    'S4': 'rgba(65, 105, 225, 1.0)',   # Strong Attractive Blue\n",
    "    'S5': 'rgba(244, 238, 225, 0.7)',   # Light Beige\n",
    "    'S6': 'rgba(244, 238, 225, 0.7)',   # Light Beige\n",
    "    'S7': 'rgba(244, 238, 225, 0.7)',   # Light Beige\n",
    "    'S8': 'rgba(192, 192, 192, 0.7)'   # Lighter Gray\n",
    "}\n",
    "\n",
    "color_dict_link = {\n",
    "    'S1': 'rgba(244, 238, 225, 0.3)',   # Light Beige\n",
    "    'S2': 'rgba(244, 238, 225, 0.3)',   # Light Beige\n",
    "    'S3': 'rgba(255, 105, 180, 0.7)',   # Strong Pink Redish\n",
    "    'S4': 'rgba(65, 105, 225, 0.7)',   # Strong Attractive Blue\n",
    "    'S5': 'rgba(244, 238, 225, 0.3)',   # Light Beige\n",
    "    'S6': 'rgba(244, 238, 225, 0.3)',   # Light Beige\n",
    "    'S7': 'rgba(244, 238, 225, 0.3)',   # Light Beige\n",
    "    'S8': 'rgba(192, 192, 192, 0.3)'   # Lighter Gray\n",
    "}\n"
   ]
  },
  {
   "cell_type": "code",
   "execution_count": null,
   "metadata": {},
   "outputs": [],
   "source": [
    "fig = go.Figure(data = [go.Sankey(\n",
    "    node=dict(\n",
    "        thickness=10,\n",
    "         line = dict(color = None, width = 0.01),\n",
    "         color= [color_dict[x.split('_')[0]] for x in names],),\n",
    "    link=dict(\n",
    "        source = [all_numerics[x] for x in source_list],\n",
    "        target = [all_numerics[x] for x in target_list],\n",
    "        value = [count_dict[x,y] for x,y in zip(source_list,target_list)],\n",
    "        color= [color_dict_link[x.split('_')[0]] for x in target_list]\n",
    "    )\n",
    ")])"
   ]
  },
  {
   "cell_type": "code",
   "execution_count": null,
   "metadata": {},
   "outputs": [],
   "source": [
    "fig.update_layout(font_size=15, width=1200, height=800, margin=dict(t=30,l=30,b=30,r=30))"
   ]
  }
 ],
 "metadata": {
  "kernelspec": {
   "display_name": ".venv",
   "language": "python",
   "name": "python3"
  },
  "language_info": {
   "codemirror_mode": {
    "name": "ipython",
    "version": 3
   },
   "file_extension": ".py",
   "mimetype": "text/x-python",
   "name": "python",
   "nbconvert_exporter": "python",
   "pygments_lexer": "ipython3",
   "version": "3.10.6"
  }
 },
 "nbformat": 4,
 "nbformat_minor": 2
}
